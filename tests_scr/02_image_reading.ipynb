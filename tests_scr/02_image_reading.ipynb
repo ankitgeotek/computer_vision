{
 "cells": [
  {
   "cell_type": "code",
   "execution_count": 1,
   "id": "d8bb7cb4",
   "metadata": {},
   "outputs": [],
   "source": [
    "import cv2"
   ]
  },
  {
   "cell_type": "code",
   "execution_count": 7,
   "id": "734ee630",
   "metadata": {},
   "outputs": [],
   "source": [
    "im_path = '/mnt/e/CampusX/41_computer_vision/data/test_data/random-pixels.jpg'\n",
    "\n",
    "image = cv2.imread(im_path)"
   ]
  },
  {
   "cell_type": "code",
   "execution_count": 8,
   "id": "1a868abd",
   "metadata": {},
   "outputs": [
    {
     "name": "stdout",
     "output_type": "stream",
     "text": [
      "[[[  4 230 159]\n",
      "  [  4 230 159]\n",
      "  [  4 230 159]\n",
      "  ...\n",
      "  [ 29 237 119]\n",
      "  [ 29 237 119]\n",
      "  [ 29 237 119]]\n",
      "\n",
      " [[  4 230 159]\n",
      "  [  4 230 159]\n",
      "  [  4 230 159]\n",
      "  ...\n",
      "  [ 29 237 119]\n",
      "  [ 29 237 119]\n",
      "  [ 29 237 119]]\n",
      "\n",
      " [[  4 230 159]\n",
      "  [  4 230 159]\n",
      "  [  4 230 159]\n",
      "  ...\n",
      "  [ 29 237 119]\n",
      "  [ 29 237 119]\n",
      "  [ 29 237 119]]\n",
      "\n",
      " ...\n",
      "\n",
      " [[165  68  10]\n",
      "  [165  68  10]\n",
      "  [165  68  10]\n",
      "  ...\n",
      "  [ 64  41 215]\n",
      "  [ 64  41 215]\n",
      "  [ 64  41 215]]\n",
      "\n",
      " [[165  68  10]\n",
      "  [165  68  10]\n",
      "  [165  68  10]\n",
      "  ...\n",
      "  [ 64  41 215]\n",
      "  [ 64  41 215]\n",
      "  [ 64  41 215]]\n",
      "\n",
      " [[165  68  10]\n",
      "  [165  68  10]\n",
      "  [165  68  10]\n",
      "  ...\n",
      "  [ 64  41 215]\n",
      "  [ 64  41 215]\n",
      "  [ 64  41 215]]]\n"
     ]
    }
   ],
   "source": [
    "print(image)"
   ]
  },
  {
   "cell_type": "code",
   "execution_count": 9,
   "id": "40d6fcf5",
   "metadata": {},
   "outputs": [
    {
     "data": {
      "text/plain": [
       "(137, 205, 3)"
      ]
     },
     "execution_count": 9,
     "metadata": {},
     "output_type": "execute_result"
    }
   ],
   "source": [
    "image.shape"
   ]
  },
  {
   "cell_type": "code",
   "execution_count": null,
   "id": "1867bde6",
   "metadata": {},
   "outputs": [],
   "source": []
  }
 ],
 "metadata": {
  "kernelspec": {
   "display_name": ".venv",
   "language": "python",
   "name": "python3"
  },
  "language_info": {
   "codemirror_mode": {
    "name": "ipython",
    "version": 3
   },
   "file_extension": ".py",
   "mimetype": "text/x-python",
   "name": "python",
   "nbconvert_exporter": "python",
   "pygments_lexer": "ipython3",
   "version": "3.12.11"
  }
 },
 "nbformat": 4,
 "nbformat_minor": 5
}
