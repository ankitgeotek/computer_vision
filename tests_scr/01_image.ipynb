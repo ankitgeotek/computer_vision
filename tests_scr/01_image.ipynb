{
 "cells": [
  {
   "cell_type": "code",
   "execution_count": 1,
   "id": "68b51b60",
   "metadata": {},
   "outputs": [
    {
     "name": "stdout",
     "output_type": "stream",
     "text": [
      "1\n"
     ]
    }
   ],
   "source": [
    "print(1)"
   ]
  },
  {
   "cell_type": "code",
   "execution_count": null,
   "id": "2e1fe976",
   "metadata": {},
   "outputs": [],
   "source": [
    "import cv2\n",
    "\n",
    "# Read the image\n",
    "image_path = \"/mnt/e/CampusX/41_computer_vision/data/test_data/water-melon.png\"  # Replace with the path to your image\n",
    "image = cv2.imread(image_path)\n",
    "\n",
    "# Check if the image was loaded\n",
    "if image is None:\n",
    "    print(\"Error: Could not read the image.\")\n",
    "    exit()\n",
    "\n",
    "# Display the image\n",
    "cv2.imshow(\"Loaded Image\", image)\n",
    "cv2.waitKey(0)  # Wait for a key press to close the image window\n",
    "cv2.destroyAllWindows()\n",
    "\n",
    "# Get the dimensions of the image\n",
    "height, width, channels = image.shape\n",
    "print(f\"Image Dimensions: {width}x{height}, Channels: {channels}\")\n",
    "\n",
    "# Print pixel values\n",
    "print(\"Pixel Values at (0, 0):\", image[0, 0])  # Top-left corner pixel value\n",
    "print(\"Pixel Values at (height//2, width//2):\", image[height // 2, width // 2])  # Center pixel value\n",
    "\n",
    "# Save the pixel data to a file (optional)\n",
    "with open(\"image_pixel_values.txt\", \"w\") as f:\n",
    "    for y in range(height):\n",
    "        for x in range(width):\n",
    "            f.write(f\"Pixel at ({x}, {y}): {image[y, x].tolist()}\\n\")\n"
   ]
  },
  {
   "cell_type": "code",
   "execution_count": null,
   "id": "3b268e5b",
   "metadata": {},
   "outputs": [],
   "source": []
  }
 ],
 "metadata": {
  "kernelspec": {
   "display_name": ".venv",
   "language": "python",
   "name": "python3"
  },
  "language_info": {
   "codemirror_mode": {
    "name": "ipython",
    "version": 3
   },
   "file_extension": ".py",
   "mimetype": "text/x-python",
   "name": "python",
   "nbconvert_exporter": "python",
   "pygments_lexer": "ipython3",
   "version": "3.12.11"
  }
 },
 "nbformat": 4,
 "nbformat_minor": 5
}
